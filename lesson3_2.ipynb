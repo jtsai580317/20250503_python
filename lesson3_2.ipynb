{
  "nbformat": 4,
  "nbformat_minor": 0,
  "metadata": {
    "colab": {
      "provenance": [],
      "authorship_tag": "ABX9TyMLtjmFP0DNmNiTjYdzKOJP",
      "include_colab_link": true
    },
    "kernelspec": {
      "name": "python3",
      "display_name": "Python 3"
    },
    "language_info": {
      "name": "python"
    }
  },
  "cells": [
    {
      "cell_type": "markdown",
      "metadata": {
        "id": "view-in-github",
        "colab_type": "text"
      },
      "source": [
        "<a href=\"https://colab.research.google.com/github/jtsai580317/20250503_python/blob/main/lesson3_2.ipynb\" target=\"_parent\"><img src=\"https://colab.research.google.com/assets/colab-badge.svg\" alt=\"Open In Colab\"/></a>"
      ]
    },
    {
      "cell_type": "code",
      "source": [
        "presure=94\n",
        "if presure >= 80:\n",
        "  if presure <= 120:\n",
        "    print (\"血壓正常\")\n",
        "\n",
        "\n"
      ],
      "metadata": {
        "colab": {
          "base_uri": "https://localhost:8080/"
        },
        "id": "U8u4_alsPKdF",
        "outputId": "254b80bd-13ef-40af-af02-281e010ce40a"
      },
      "execution_count": 1,
      "outputs": [
        {
          "output_type": "stream",
          "name": "stdout",
          "text": [
            "血壓正常\n"
          ]
        }
      ]
    },
    {
      "cell_type": "code",
      "source": [
        "presure=60\n",
        "if presure >= 80 and presure <= 120:\n",
        "  print (\"血壓正常\")\n",
        "else :\n",
        "  print (\"血壓不正常\")\n",
        "\n",
        "\n",
        "\n"
      ],
      "metadata": {
        "colab": {
          "base_uri": "https://localhost:8080/"
        },
        "outputId": "ad1e6ce4-2f39-4272-cb08-f2ab83b98ea8",
        "id": "rrWJbZwhP9zq"
      },
      "execution_count": 4,
      "outputs": [
        {
          "output_type": "stream",
          "name": "stdout",
          "text": [
            "血壓不正常\n"
          ]
        }
      ]
    },
    {
      "cell_type": "code",
      "source": [
        "presure = 92\n",
        "if not (presure >=80 and presure <= 120):\n",
        "  print(\"血壓不正常\")\n",
        "else:\n",
        "  print(\"血壓正常\")"
      ],
      "metadata": {
        "colab": {
          "base_uri": "https://localhost:8080/"
        },
        "id": "FxXVXTr9QW-m",
        "outputId": "560246e0-4881-45e2-c7b6-1478a30b1fce"
      },
      "execution_count": 6,
      "outputs": [
        {
          "output_type": "stream",
          "name": "stdout",
          "text": [
            "血壓正常\n"
          ]
        }
      ]
    },
    {
      "cell_type": "code",
      "source": [],
      "metadata": {
        "id": "lbPun43LQTou"
      },
      "execution_count": null,
      "outputs": []
    },
    {
      "cell_type": "code",
      "execution_count": null,
      "metadata": {
        "id": "IEn_7G0bO5KS"
      },
      "outputs": [],
      "source": []
    },
    {
      "cell_type": "code",
      "source": [],
      "metadata": {
        "id": "DypOngD8Przy"
      },
      "execution_count": null,
      "outputs": []
    }
  ]
}