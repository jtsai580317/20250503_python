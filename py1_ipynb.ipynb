{
  "nbformat": 4,
  "nbformat_minor": 0,
  "metadata": {
    "colab": {
      "provenance": [],
      "authorship_tag": "ABX9TyNZshqO8jysY08vbDEkMMqi",
      "include_colab_link": true
    },
    "kernelspec": {
      "name": "python3",
      "display_name": "Python 3"
    },
    "language_info": {
      "name": "python"
    }
  },
  "cells": [
    {
      "cell_type": "markdown",
      "metadata": {
        "id": "view-in-github",
        "colab_type": "text"
      },
      "source": [
        "<a href=\"https://colab.research.google.com/github/jtsai580317/20250503_python/blob/main/py1_ipynb.ipynb\" target=\"_parent\"><img src=\"https://colab.research.google.com/assets/colab-badge.svg\" alt=\"Open In Colab\"/></a>"
      ]
    },
    {
      "cell_type": "markdown",
      "source": [
        "# 標題1\n",
        "## 標題2\n",
        "### 標題3\n",
        "#### 標題4\n",
        "##### 標題5\n",
        "###### 標題6\n"
      ],
      "metadata": {
        "id": "BgB_nAVCMhoD"
      }
    },
    {
      "cell_type": "code",
      "execution_count": 2,
      "metadata": {
        "colab": {
          "base_uri": "https://localhost:8080/"
        },
        "id": "n7UKpHGGDFjE",
        "outputId": "d5d828dc-13f0-46a6-a289-f0cecba6696c"
      },
      "outputs": [
        {
          "output_type": "stream",
          "name": "stdout",
          "text": [
            "Hello python\n",
            "test\n",
            "10\n",
            "80\n",
            "28\n",
            "3.5\n",
            "3\n",
            "1\n",
            "81\n"
          ]
        }
      ],
      "source": [
        "# @title\n",
        "print (\"Hello python\")\n",
        "print (\"test\")\n",
        "print(5 + 5)\n",
        "print(90 - 10)\n",
        "print(4 * 7)\n",
        "print(7 / 2)\n",
        "print(7 // 2)\n",
        "print(7 % 3)\n",
        "print(3 ** 4)"
      ]
    }
  ]
}