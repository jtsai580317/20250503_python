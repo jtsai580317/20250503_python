{
  "nbformat": 4,
  "nbformat_minor": 0,
  "metadata": {
    "colab": {
      "provenance": [],
      "authorship_tag": "ABX9TyP0eZa577rhJdUNnNZQ7Tyh",
      "include_colab_link": true
    },
    "kernelspec": {
      "name": "python3",
      "display_name": "Python 3"
    },
    "language_info": {
      "name": "python"
    }
  },
  "cells": [
    {
      "cell_type": "markdown",
      "metadata": {
        "id": "view-in-github",
        "colab_type": "text"
      },
      "source": [
        "<a href=\"https://colab.research.google.com/github/jtsai580317/20250503_python/blob/main/%E3%80%8Cpy1_ipynb%E3%80%8D%E7%9A%84%E5%89%AF%E6%9C%AC.ipynb\" target=\"_parent\"><img src=\"https://colab.research.google.com/assets/colab-badge.svg\" alt=\"Open In Colab\"/></a>"
      ]
    },
    {
      "cell_type": "markdown",
      "source": [
        "# 標題1\n",
        "## 標題2\n",
        "### 標題3\n",
        "#### 標題4\n",
        "##### 標題5\n",
        "###### 標題6\n"
      ],
      "metadata": {
        "id": "BgB_nAVCMhoD"
      }
    },
    {
      "cell_type": "code",
      "execution_count": null,
      "metadata": {
        "colab": {
          "base_uri": "https://localhost:8080/"
        },
        "id": "n7UKpHGGDFjE",
        "outputId": "ee67416e-1a64-43ef-9be3-052fcc7ada58"
      },
      "outputs": [
        {
          "output_type": "stream",
          "name": "stdout",
          "text": [
            "Hello python\n",
            "test\n"
          ]
        }
      ],
      "source": [
        "# @title\n",
        "print (\"Hello python\")\n",
        "print (\"test1\")"
      ]
    }
  ]
}