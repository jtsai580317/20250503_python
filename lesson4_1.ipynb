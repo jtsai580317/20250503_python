{
  "nbformat": 4,
  "nbformat_minor": 0,
  "metadata": {
    "colab": {
      "provenance": [],
      "authorship_tag": "ABX9TyN3+ZGe7mussuUIAs1IiFtc",
      "include_colab_link": true
    },
    "kernelspec": {
      "name": "python3",
      "display_name": "Python 3"
    },
    "language_info": {
      "name": "python"
    }
  },
  "cells": [
    {
      "cell_type": "markdown",
      "metadata": {
        "id": "view-in-github",
        "colab_type": "text"
      },
      "source": [
        "<a href=\"https://colab.research.google.com/github/jtsai580317/20250503_python/blob/main/lesson4_1.ipynb\" target=\"_parent\"><img src=\"https://colab.research.google.com/assets/colab-badge.svg\" alt=\"Open In Colab\"/></a>"
      ]
    },
    {
      "cell_type": "code",
      "execution_count": 7,
      "metadata": {
        "id": "d2nvtu9-sW1K",
        "outputId": "49e49792-8074-4037-9326-b566428d955e",
        "colab": {
          "base_uri": "https://localhost:8080/"
        }
      },
      "outputs": [
        {
          "output_type": "execute_result",
          "data": {
            "text/plain": [
              "39"
            ]
          },
          "metadata": {},
          "execution_count": 7
        }
      ],
      "source": [
        "desserts = {'Muffin': 39, 'Scone': 25, 'Biscuit': 20}\n",
        "desserts[\"Muffin\"]\n",
        "\n",
        "dest = {\"Mu\": 39,\"SC\":25,\"BI\":20}\n",
        "dest[\"Mu\"]"
      ]
    },
    {
      "cell_type": "code",
      "source": [
        "stu1 = {\"name\":\"robert\",\n",
        "        \"chinese\":78,\n",
        "        \"english\":98,\n",
        "        \"math\":73}\n",
        "\n",
        "stu2 = {\"name\":\"alice\",\n",
        "        \"chinese\":72,\n",
        "        \"english\":88,\n",
        "        \"math\":63}\n",
        "\n",
        "stu3 = {\"name\":\"jenny\",\n",
        "        \"chinese\":65,\n",
        "        \"english\":78,\n",
        "        \"math\":93}\n",
        "students=[stu1,stu2,stu3]\n",
        "students\n"
      ],
      "metadata": {
        "id": "4vvWICVD3ruo",
        "outputId": "c188955c-0eb4-4b82-ca4e-366efdde5c40",
        "colab": {
          "base_uri": "https://localhost:8080/"
        }
      },
      "execution_count": 11,
      "outputs": [
        {
          "output_type": "execute_result",
          "data": {
            "text/plain": [
              "[{'name': 'robert', 'chinese': 78, 'english': 98, 'math': 73},\n",
              " {'name': 'alice', 'chinese': 72, 'english': 88, 'math': 63},\n",
              " {'name': 'jenny', 'chinese': 65, 'english': 78, 'math': 93}]"
            ]
          },
          "metadata": {},
          "execution_count": 11
        }
      ]
    },
    {
      "cell_type": "code",
      "source": [
        "for student in students :\n",
        "  print (\"姓名\", student[\"name\"])\n",
        "  print (\"中文\", student[\"chinese\"])\n",
        "  print (\"英文\", student[\"english\"])\n",
        "  print (\"數學\", student[\"math\"])\n",
        "\n"
      ],
      "metadata": {
        "id": "5GVp-3RB4HH8",
        "outputId": "c743c4d5-72bc-4853-d746-4ac695d7d0ba",
        "colab": {
          "base_uri": "https://localhost:8080/"
        }
      },
      "execution_count": 16,
      "outputs": [
        {
          "output_type": "stream",
          "name": "stdout",
          "text": [
            "姓名 robert\n",
            "中文 78\n",
            "英文 98\n",
            "數學 73\n",
            "姓名 alice\n",
            "中文 72\n",
            "英文 88\n",
            "數學 63\n",
            "姓名 jenny\n",
            "中文 65\n",
            "英文 78\n",
            "數學 93\n"
          ]
        }
      ]
    }
  ]
}