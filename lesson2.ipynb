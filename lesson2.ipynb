{
  "nbformat": 4,
  "nbformat_minor": 0,
  "metadata": {
    "colab": {
      "provenance": [],
      "authorship_tag": "ABX9TyOenuBBMXk2PIlByS4BQq1R",
      "include_colab_link": true
    },
    "kernelspec": {
      "name": "python3",
      "display_name": "Python 3"
    },
    "language_info": {
      "name": "python"
    }
  },
  "cells": [
    {
      "cell_type": "markdown",
      "metadata": {
        "id": "view-in-github",
        "colab_type": "text"
      },
      "source": [
        "<a href=\"https://colab.research.google.com/github/jtsai580317/20250503_python/blob/main/lesson2.ipynb\" target=\"_parent\"><img src=\"https://colab.research.google.com/assets/colab-badge.svg\" alt=\"Open In Colab\"/></a>"
      ]
    },
    {
      "cell_type": "code",
      "execution_count": null,
      "metadata": {
        "id": "ot7Ic1YEpeeT",
        "colab": {
          "base_uri": "https://localhost:8080/"
        },
        "outputId": "36c99c6a-8f6c-4f6e-e538-4109b219aad6"
      },
      "outputs": [
        {
          "output_type": "execute_result",
          "data": {
            "text/plain": [
              "14"
            ]
          },
          "metadata": {},
          "execution_count": 4
        }
      ],
      "source": [
        "2 + 3 * 4"
      ]
    },
    {
      "cell_type": "code",
      "source": [
        "(2 + 3) * 4"
      ],
      "metadata": {
        "colab": {
          "base_uri": "https://localhost:8080/"
        },
        "id": "vdB7Yql1urNL",
        "outputId": "f238e034-37dd-4bf8-d37f-b0e09af3ce32"
      },
      "execution_count": null,
      "outputs": [
        {
          "output_type": "execute_result",
          "data": {
            "text/plain": [
              "20"
            ]
          },
          "metadata": {},
          "execution_count": 5
        }
      ]
    },
    {
      "cell_type": "markdown",
      "source": [
        "\n",
        "\n",
        "- 會做6件事\n",
        "- 運算式->會傳出值\n",
        "\n",
        "**運算子的優先順序**\n",
        "- ()\n",
        "- \\**\n",
        "- \\* / % //\n",
        "- \\+ -\n",
        "- =\n"
      ],
      "metadata": {
        "id": "tiAfMMUku0iI"
      }
    },
    {
      "cell_type": "code",
      "source": [
        "2 * (1 + 2) ** 2 - 2 ** 2 * 2"
      ],
      "metadata": {
        "colab": {
          "base_uri": "https://localhost:8080/"
        },
        "id": "ig--1HuVuxfJ",
        "outputId": "713f9bfa-667f-4458-826a-06d4fef5764f"
      },
      "execution_count": null,
      "outputs": [
        {
          "output_type": "execute_result",
          "data": {
            "text/plain": [
              "10"
            ]
          },
          "metadata": {},
          "execution_count": 6
        }
      ]
    },
    {
      "cell_type": "code",
      "source": [
        "n = 2 * (1 + 2) ** 2 - 2 ** 2 * 2\n",
        "n = n * 10\n",
        "n"
      ],
      "metadata": {
        "colab": {
          "base_uri": "https://localhost:8080/"
        },
        "id": "T1VVZev1yIIi",
        "outputId": "5f5083e5-edad-4361-f1db-760cb9de71aa"
      },
      "execution_count": null,
      "outputs": [
        {
          "output_type": "execute_result",
          "data": {
            "text/plain": [
              "100"
            ]
          },
          "metadata": {},
          "execution_count": 11
        }
      ]
    },
    {
      "cell_type": "code",
      "source": [
        "n = 2 * (1 + 2) ** 2 - 2 ** 2 * 2\n",
        "\n",
        "n *= 10\n",
        "\n",
        "print (n)\n",
        "\n",
        "n **= 2\n",
        "\n",
        "n"
      ],
      "metadata": {
        "id": "VN3b-0fI3kkX",
        "outputId": "8729c4fd-b11d-496c-9574-d2dd7806fafa",
        "colab": {
          "base_uri": "https://localhost:8080/"
        }
      },
      "execution_count": null,
      "outputs": [
        {
          "output_type": "stream",
          "name": "stdout",
          "text": [
            "100\n"
          ]
        },
        {
          "output_type": "execute_result",
          "data": {
            "text/plain": [
              "10000"
            ]
          },
          "metadata": {},
          "execution_count": 17
        }
      ]
    },
    {
      "cell_type": "code",
      "source": [
        "name = input(\"請輸入您的姓名:\")\n",
        "print(\"您的名字:\",name)"
      ],
      "metadata": {
        "id": "72rNdCn19cbP",
        "outputId": "540bc938-4b85-4f5d-b3eb-f259e3db39c6",
        "colab": {
          "base_uri": "https://localhost:8080/"
        }
      },
      "execution_count": 19,
      "outputs": [
        {
          "output_type": "stream",
          "name": "stdout",
          "text": [
            "請輸入您的姓名:蔡昭泉\n",
            "您的名字: 蔡昭泉\n"
          ]
        }
      ]
    }
  ]
}